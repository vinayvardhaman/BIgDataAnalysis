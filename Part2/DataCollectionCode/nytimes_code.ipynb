{
 "cells": [
  {
   "cell_type": "code",
   "execution_count": null,
   "metadata": {
    "scrolled": true
   },
   "outputs": [],
   "source": [
    "from nytimesarticle import articleAPI\n",
    "api = articleAPI('8b18491cab36479486581b2c19309a5e')\n",
    "\n",
    "articles = api.search( q = 'bitcoin', begin_date = '20180201', end_date = '20180228', page=3)\n",
    "#print articles"
   ]
  },
  {
   "cell_type": "code",
   "execution_count": null,
   "metadata": {
    "collapsed": true
   },
   "outputs": [],
   "source": [
    "urls = []\n",
    "for article in articles['response']['docs']:\n",
    "        a = {}\n",
    "        a['url'] = article['web_url']\n",
    "        urls.append(a)\n",
    "# print urls"
   ]
  },
  {
   "cell_type": "code",
   "execution_count": null,
   "metadata": {
    "collapsed": true
   },
   "outputs": [],
   "source": [
    "import requests\n",
    "from bs4 import BeautifulSoup\n",
    "session = requests.Session()\n",
    "\n",
    "f = open(\"nytimes.txt\", \"a+\")\n",
    "f.close()\n",
    "\n",
    "for item in urls:\n",
    "    url = item['url']\n",
    "    req = session.get(url)\n",
    "    soup = BeautifulSoup(req.text)\n",
    "    paragraphs = soup.find_all('p', class_='story-body-text story-content')\n",
    "\n",
    "    article_text = \"\"\n",
    "    for p in paragraphs:\n",
    "        article_text = article_text + p.get_text()\n",
    "        \n",
    "    text_file = open(\"nytimes.txt\", \"a+\")\n",
    "    text_file.write(\"%s\" % article_text.encode(\"UTF-8\"))\n",
    "    text_file.close()  \n",
    "    \n",
    "    "
   ]
  },
  {
   "cell_type": "code",
   "execution_count": 6,
   "metadata": {
    "collapsed": true
   },
   "outputs": [],
   "source": [
    "# code to sort the MR output in descending order for word count\n",
    "import sys, csv ,operator\n",
    "\n",
    "data = csv.reader(open(\"/Users/vinayvar/Desktop/DIC/Lab2/Output/wordcount_output/nytimes_output/bitcoin.csv\"),delimiter=',')\n",
    "sortedlist = sorted(data, key=lambda x: int(x[1]), reverse=True)\n",
    "#now write the sorte result into new CSV file\n",
    "with open(\"bitcoin.csv\", \"wb\") as f:\n",
    "    fileWriter = csv.writer(f, delimiter=',')\n",
    "    for row in sortedlist:\n",
    "        fileWriter.writerow(row)"
   ]
  }
 ],
 "metadata": {
  "kernelspec": {
   "display_name": "Python 2",
   "language": "python",
   "name": "python2"
  },
  "language_info": {
   "codemirror_mode": {
    "name": "ipython",
    "version": 2
   },
   "file_extension": ".py",
   "mimetype": "text/x-python",
   "name": "python",
   "nbconvert_exporter": "python",
   "pygments_lexer": "ipython2",
   "version": "2.7.14"
  }
 },
 "nbformat": 4,
 "nbformat_minor": 2
}
