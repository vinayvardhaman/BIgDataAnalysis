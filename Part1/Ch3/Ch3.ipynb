{
 "cells": [
  {
   "cell_type": "code",
   "execution_count": 2,
   "metadata": {},
   "outputs": [
    {
     "name": "stdout",
     "output_type": "stream",
     "text": [
      "Susan now lives in Washington\n",
      " and makes $105000.0\n",
      "Ellen now lives in Texas\n",
      " and makes $78750.0\n"
     ]
    }
   ],
   "source": [
    "SALARY_RAISE_FACTOR = 0.05\n",
    "STATE_CODE_MAP = {'WA': 'Washington', 'TX': 'Texas'}\n",
    "def update_employee_record(rec):\n",
    " old_sal = rec['salary']\n",
    " new_sal = old_sal * (1 + SALARY_RAISE_FACTOR)\n",
    " rec['salary'] = new_sal\n",
    " state_code = rec['state_code']\n",
    " rec['state_name'] = STATE_CODE_MAP[state_code]\n",
    "input_data = [\n",
    " {'employee_name': 'Susan', 'salary': 100000.0,\n",
    " 'state_code': 'WA'},\n",
    " {'employee_name': 'Ellen', 'salary': 75000.0,\n",
    " 'state_code': 'TX'},\n",
    "]\n",
    "for rec in input_data:\n",
    " update_employee_record(rec)\n",
    " name = rec['employee_name']\n",
    " salary = rec['salary']\n",
    " state = rec['state_name']\n",
    " print name + ' now lives in ' + state\n",
    " print ' and makes $' + str(salary)"
   ]
  },
  {
   "cell_type": "code",
   "execution_count": 29,
   "metadata": {},
   "outputs": [
    {
     "name": "stdout",
     "output_type": "stream",
     "text": [
      "hello\n",
      "hello\n",
      "\n",
      "hello's\n",
      "line 1\n",
      "line 2\n",
      "A\n",
      "AB\n",
      "BC\n",
      "BCD\n",
      "ABC\n"
     ]
    }
   ],
   "source": [
    "a_string = \"hello\"\n",
    "same_as_previous = 'hello'\n",
    "an_empty_string = \"\"\n",
    "w_a_single_quote = \"hello's\"\n",
    "multi_line_string = \"\"\"line 1\n",
    "line 2\"\"\"\n",
    "\n",
    "print a_string\n",
    "print same_as_previous\n",
    "print an_empty_string\n",
    "print w_a_single_quote\n",
    "print multi_line_string\n",
    "\n",
    "print \"ABCD\"[0]\n",
    "print \"ABCD\"[0:2]\n",
    "print \"ABCD\"[1:3]\n",
    "print \"ABCD\"[1:]\n",
    "print \"ABCD\"[:-1]"
   ]
  },
  {
   "cell_type": "code",
   "execution_count": 9,
   "metadata": {},
   "outputs": [
    {
     "name": "stdout",
     "output_type": "stream",
     "text": [
      "16\n"
     ]
    }
   ],
   "source": [
    "def sqr(x):\n",
    " \"This function just squares its input \"\n",
    " return x * x\n",
    "\n",
    "print sqr(4)"
   ]
  },
  {
   "cell_type": "code",
   "execution_count": 25,
   "metadata": {},
   "outputs": [
    {
     "name": "stdout",
     "output_type": "stream",
     "text": [
      "a \n",
      "['A ', 'b ', 'c ', 'd ']\n",
      "['A ', 5.7, 'B ', [1, 2, 3]]\n",
      "[1, 4, 9, 16, 25, 36, 49, 64]\n",
      "[4, 16, 36, 64]\n"
     ]
    }
   ],
   "source": [
    "my_list = [\"a \", \"b \", \"c \"]\n",
    "print my_list[0] # prints \"a \"\n",
    "my_list[0] = \"A \" # changes that element of the list\n",
    "my_list.append(\"d \") # adds new element to the end\n",
    "print my_list\n",
    "# List elements can be ANYTHING\n",
    "mixed_list = [\"A \", 5.7, \"B \", [1,2,3]]\n",
    "print mixed_list\n",
    "\n",
    "original_list = [1,2,3,4,5,6,7,8]\n",
    "squares = [x*x for x in original_list]\n",
    "print squares\n",
    "squares_of_evens = [x*x for x in original_list if x%2==0]\n",
    "print squares_of_evens"
   ]
  },
  {
   "cell_type": "code",
   "execution_count": 32,
   "metadata": {},
   "outputs": [
    {
     "name": "stdout",
     "output_type": "stream",
     "text": [
      "['ABC', 'DEF']\n",
      "['ABC', 'DEF']\n",
      "['ABC', '\\tDEF']\n",
      "['', 'C', 'D']\n",
      "A,B,C\n"
     ]
    },
    {
     "data": {
      "text/plain": [
       "'BDF'"
      ]
     },
     "execution_count": 32,
     "metadata": {},
     "output_type": "execute_result"
    }
   ],
   "source": [
    "print \"ABC DEF\".split()\n",
    "print \"ABC \\tDEF\".split()\n",
    "print \"ABC \\tDEF\".split(' ')\n",
    "print \"ABCABD\".split(\"AB\")\n",
    "print \",\".join([\"A\", \"B\", \"C\"])\n",
    "start, end, count_by = 1, 7, 2\n",
    "\"ABCDEFG\"[start: end: count_by]"
   ]
  },
  {
   "cell_type": "code",
   "execution_count": 34,
   "metadata": {},
   "outputs": [
    {
     "name": "stdout",
     "output_type": "stream",
     "text": [
      "1\n",
      "{'January': 'Start of the year', 'February': 2, 'March': 3}\n",
      "{'two': 2, 'one': 1}\n",
      "[('two', 2), ('one', 1)]\n"
     ]
    }
   ],
   "source": [
    "my_dict = {\"January\": 1, \"February\":2}\n",
    "print my_dict[\"January\"] # prints 1\n",
    "my_dict[\"March\"] = 3 # add new element\n",
    "my_dict[\"January\"] = \"Start of the year\" # overwriteold value\n",
    "print my_dict\n",
    "\n",
    "pairs = [(\"one\",1), (\"two\",2)]\n",
    "as_dict = dict(pairs)\n",
    "same_as_pairs = as_dict.items()\n",
    "print as_dict\n",
    "print same_as_pairs"
   ]
  },
  {
   "cell_type": "code",
   "execution_count": 45,
   "metadata": {},
   "outputs": [
    {
     "name": "stdout",
     "output_type": "stream",
     "text": [
      "36\n",
      "4\n",
      "8\n",
      "25\n",
      "[4, 16]\n"
     ]
    }
   ],
   "source": [
    "def my_function(x):\n",
    " x = x+1\n",
    " x_sqrd = x*x\n",
    " return x_sqrd\n",
    "five_plus_one_sqrd = my_function(5)\n",
    "print five_plus_one_sqrd\n",
    "\n",
    "def rise(x, n=2):\n",
    " return pow(x,n)\n",
    "\n",
    "two_sqrd = rise(2)\n",
    "two_cubed = rise(2, n=3)\n",
    "print two_sqrd\n",
    "print two_cubed\n",
    "\n",
    "sqr = lambda x : x*x\n",
    "five_sqrd = sqr(5)\n",
    "print five_sqrd\n",
    "\n",
    "def apply_to_evens(a_list, a_func):\n",
    " return [a_func(x) for x in a_list if x%2==0]\n",
    "my_list = [1,2,3,4,5]\n",
    "sqrs_of_evens = apply_to_evens(my_list, lambda x:x*x)\n",
    "print sqrs_of_evens"
   ]
  },
  {
   "cell_type": "code",
   "execution_count": 49,
   "metadata": {},
   "outputs": [
    {
     "name": "stdout",
     "output_type": "stream",
     "text": [
      "the number is  1\n",
      "the number is  2\n",
      "the number is  3\n",
      "the value for  January  is  Start of the year\n",
      "the value for  February  is  2\n",
      "the value for  March  is  3\n",
      "i is still less than five\n",
      "i is still less than five\n",
      "i is still less than five\n",
      "i is still less than five\n",
      "i is still less than five\n"
     ]
    }
   ],
   "source": [
    "my_list = [1, 2, 3]\n",
    "for x in my_list:\n",
    " print \"the number is \", x\n",
    "\n",
    "for key, value in my_dict.items():\n",
    " print \"the value for \", key, \" is \", value\n",
    "\n",
    "i = 0\n",
    "while i < 5:\n",
    " print \"i is still less than five\"\n",
    " i = i+1"
   ]
  },
  {
   "cell_type": "code",
   "execution_count": 50,
   "metadata": {},
   "outputs": [
    {
     "name": "stdout",
     "output_type": "stream",
     "text": [
      "There were < 10 lines\n"
     ]
    }
   ],
   "source": [
    "try:\n",
    " lines = input_text.split(\"\\n\")\n",
    " print \"tenth line was: \", lines[9]\n",
    "except:\n",
    " print \"There were < 10 lines\"\n"
   ]
  },
  {
   "cell_type": "code",
   "execution_count": 54,
   "metadata": {},
   "outputs": [
    {
     "name": "stdout",
     "output_type": "stream",
     "text": [
      "bark bark!!\n"
     ]
    }
   ],
   "source": [
    "class Dog:\n",
    " def __init__(self, name):\n",
    "  self.name = name\n",
    " def respond_to_command(self, command):\n",
    "  if command == self.name: self.speak()\n",
    " def speak(self):\n",
    "  print \"bark bark!!\"\n",
    "fido = Dog(\"fido\")\n",
    "fido.respond_to_command(\"spot\") # does nothing\n",
    "fido.respond_to_command(\"fido\") # prints bark bark"
   ]
  },
  {
   "cell_type": "code",
   "execution_count": 56,
   "metadata": {},
   "outputs": [
    {
     "name": "stdout",
     "output_type": "stream",
     "text": [
      "6\n",
      "5\n",
      "[5]\n"
     ]
    },
    {
     "data": {
      "text/plain": [
       "'bob'"
      ]
     },
     "execution_count": 56,
     "metadata": {},
     "output_type": "execute_result"
    }
   ],
   "source": [
    "a = 5\n",
    "b = a\n",
    "a = a+1\n",
    "print a\n",
    "print b\n",
    "A = []\n",
    "B = A\n",
    "A.append(5)\n",
    "print B\n",
    "\n",
    "A = [{}, {}] # list of dicts\n",
    "B = [x for x in A]\n",
    "A[0][\"name\"] = \"bob\"\n",
    "B[0][\"name\"]"
   ]
  },
  {
   "cell_type": "code",
   "execution_count": 63,
   "metadata": {},
   "outputs": [
    {
     "name": "stdout",
     "output_type": "stream",
     "text": [
      "   age    name  age_plus_one  age_times_two  age_squared  over_30\n",
      "0   60     Bob            61            120         3600     True\n",
      "1   25    Alex            26             50          625    False\n",
      "2   33  Janice            34             66         1089     True\n",
      "   age    name  age_plus_one  age_times_two  age_squared  over_30\n",
      "1   25    Alex            26             50          625    False\n",
      "2   33  Janice            34             66         1089     True\n",
      "33.0\n",
      "Index([u'Bob', u'Alex', u'Janice'], dtype='object', name=u'name')\n",
      "60\n"
     ]
    }
   ],
   "source": [
    "import pandas as pd\n",
    "# Making data frame from a dictionary\n",
    "# that maps column names to their values\n",
    "df = pd.DataFrame({\n",
    "\"name\": [\"Bob\", \"Alex\", \"Janice\"],\n",
    "\"age\": [60, 25, 33]\n",
    "})\n",
    "\n",
    "# Making new columns from old ones\n",
    "# is really easy\n",
    "df[\"age_plus_one\"] = df[\"age\"] + 1\n",
    "df[\"age_times_two\"] = 2 * df[\"age\"]\n",
    "df[\"age_squared\"] = df[\"age\"] * df[\"age\"]\n",
    "df[\"over_30\"] = (df[\"age\"] > 30) # this col is bools\n",
    "# The columns have various built-in aggregate functions\n",
    "total_age = df[\"age\"].sum()\n",
    "median_age = df[\"age\"].quantile(0.5)\n",
    "# You can select several rows of the DataFrame\n",
    "# and make a new DataFrame out of them\n",
    "df_below50 = df[df[\"age\"] < 50]\n",
    "# Apply a custom function to a column\n",
    "df[\"age_squared\"] = df[\"age\"].apply(lambda x: x*x)\n",
    "print df\n",
    "print df_below50\n",
    "print median_age\n",
    "\n",
    "# Create a DataFrame containing the same data,\n",
    "# but where name is the index\n",
    "df_w_name_as_ind = df.set_index(\"name\")\n",
    "print df_w_name_as_ind.index # prints their names\n",
    "\n",
    "bobs_row = df_w_name_as_ind.loc[\"Bob\"]\n",
    "print bobs_row[\"age\"] # prints 60"
   ]
  },
  {
   "cell_type": "code",
   "execution_count": 70,
   "metadata": {},
   "outputs": [
    {
     "name": "stdout",
     "output_type": "stream",
     "text": [
      "0    1\n",
      "1    2\n",
      "2    3\n",
      "dtype: int64\n",
      "0    3\n",
      "1    4\n",
      "2    5\n",
      "dtype: int64\n",
      "RangeIndex(start=0, stop=3, step=1)\n",
      "0    5\n",
      "1    6\n",
      "2    8\n",
      "dtype: int64\n",
      "<class 'pandas.core.series.Series'>\n",
      "age                60\n",
      "age_plus_one       61\n",
      "age_times_two     120\n",
      "age_squared      3600\n",
      "over_30          True\n",
      "Name: Bob, dtype: object\n"
     ]
    }
   ],
   "source": [
    " # import Pandas. I always alias it as pd\n",
    "import pandas as pd\n",
    "s = pd.Series([1,2,3]) # make Series from list\n",
    "# display the values in s\n",
    "# note index is to the far left\n",
    "print s\n",
    "print s+2\n",
    "print s.index\n",
    "print s+pd.Series([4,4,5])\n",
    "\n",
    "bobs_row = df_w_name_as_ind.loc[\"Bob\"]\n",
    "print type(bobs_row)\n",
    "#<class 'pandas.core.series.Series'>\n",
    "print bobs_row"
   ]
  },
  {
   "cell_type": "code",
   "execution_count": 79,
   "metadata": {},
   "outputs": [
    {
     "name": "stdout",
     "output_type": "stream",
     "text": [
      "        age  height\n",
      "name               \n",
      "Tom      60     6.2\n",
      "Tyrell   25     4.0\n",
      "Claire   33     5.5\n",
      "     name  age  height\n",
      "0     Tom   60     6.2\n",
      "1  Tyrell   25     4.0\n",
      "2  Claire   33     5.5\n",
      "         age  height\n",
      "gender              \n",
      "F       33.0     5.5\n",
      "M       42.5     5.1\n",
      "        mean_height    name  oldest\n",
      "gender                             \n",
      "F               5.5  Claire      33\n",
      "M               5.1  Tyrell      60\n"
     ]
    }
   ],
   "source": [
    "df_w_age = pd.DataFrame({\n",
    "\"name\": [\"Tom\", \"Tyrell\", \"Claire\"],\n",
    "\"age\": [60, 25, 33]\n",
    "})\n",
    "df_w_height = pd.DataFrame({\n",
    "\"name\": [\"Tom\", \"Tyrell\", \"Claire\"],\n",
    "\"height\": [6.2, 4.0, 5.5]\n",
    "})\n",
    "joined = df_w_age.set_index(\"name\").join(df_w_height.set_index(\"name\"))\n",
    "print joined\n",
    "print joined.reset_index()\n",
    "\n",
    "df = pd.DataFrame({\"name\": [\"Tom\", \"Tyrell\", \"Claire\"],\"age\": [60, 25, 33],\"height\": [6.2, 4.0, 5.5],\"gender\": [\"M\", \"M\", \"F\"]})\n",
    "print df.groupby(\"gender\").mean()\n",
    "medians = df.groupby(\"gender\").quantile(0.5)\n",
    "# Use a custom aggregation function\n",
    "def agg(ddf):\n",
    "    return pd.Series({\n",
    " \"name\": max(ddf[\"name\"]),\n",
    " \"oldest\": max(ddf[\"age\"]),\n",
    " \"mean_height\": ddf[\"height\"].mean()\n",
    " })\n",
    "print df.groupby(\"gender\").apply(agg)"
   ]
  },
  {
   "cell_type": "code",
   "execution_count": null,
   "metadata": {
    "collapsed": true
   },
   "outputs": [],
   "source": []
  }
 ],
 "metadata": {
  "kernelspec": {
   "display_name": "Python 2",
   "language": "python",
   "name": "python2"
  },
  "language_info": {
   "codemirror_mode": {
    "name": "ipython",
    "version": 2
   },
   "file_extension": ".py",
   "mimetype": "text/x-python",
   "name": "python",
   "nbconvert_exporter": "python",
   "pygments_lexer": "ipython2",
   "version": "2.7.14"
  }
 },
 "nbformat": 4,
 "nbformat_minor": 2
}
